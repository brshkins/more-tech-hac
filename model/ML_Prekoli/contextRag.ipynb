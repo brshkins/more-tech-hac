{
 "cells": [
  {
   "cell_type": "code",
   "execution_count": 1,
   "metadata": {},
   "outputs": [],
   "source": [
    "import pandas as pd\n",
    "import os\n",
    "from langchain.vectorstores import FAISS\n",
    "from langchain.schema import Document\n",
    "from langchain.embeddings.base import Embeddings\n",
    "import requests\n",
    "from dotenv import load_dotenv\n",
    "from typing import List\n",
    "from tenacity import retry, stop_after_attempt, wait_random_exponential"
   ]
  },
  {
   "cell_type": "code",
   "execution_count": 2,
   "metadata": {},
   "outputs": [
    {
     "data": {
      "text/html": [
       "<div>\n",
       "<style scoped>\n",
       "    .dataframe tbody tr th:only-of-type {\n",
       "        vertical-align: middle;\n",
       "    }\n",
       "\n",
       "    .dataframe tbody tr th {\n",
       "        vertical-align: top;\n",
       "    }\n",
       "\n",
       "    .dataframe thead th {\n",
       "        text-align: right;\n",
       "    }\n",
       "</style>\n",
       "<table border=\"1\" class=\"dataframe\">\n",
       "  <thead>\n",
       "    <tr style=\"text-align: right;\">\n",
       "      <th></th>\n",
       "      <th>Топик</th>\n",
       "      <th>Подтопик</th>\n",
       "      <th>Поисковой запрос</th>\n",
       "      <th>Текст</th>\n",
       "    </tr>\n",
       "  </thead>\n",
       "  <tbody>\n",
       "    <tr>\n",
       "      <th>0</th>\n",
       "      <td>Главное</td>\n",
       "      <td>Приложение Мой МТС</td>\n",
       "      <td>Как проверить последние пополнения и списания</td>\n",
       "      <td>1. Откройте Расходы\\n\\n\\n2. По умолчанию отоб...</td>\n",
       "    </tr>\n",
       "    <tr>\n",
       "      <th>1</th>\n",
       "      <td>Главное</td>\n",
       "      <td>Приложение Мой МТС</td>\n",
       "      <td>Как заказать детализацию</td>\n",
       "      <td>\\nВ детализации есть полные данные о том, как ...</td>\n",
       "    </tr>\n",
       "    <tr>\n",
       "      <th>2</th>\n",
       "      <td>Главное</td>\n",
       "      <td>Приложение Мой МТС</td>\n",
       "      <td>Как оставаться на связи при минусе</td>\n",
       "      <td>Есть несколько способов пользоваться номером п...</td>\n",
       "    </tr>\n",
       "    <tr>\n",
       "      <th>3</th>\n",
       "      <td>Главное</td>\n",
       "      <td>Приложение Мой МТС</td>\n",
       "      <td>Как проверить баланс и пакеты по тарифу</td>\n",
       "      <td>На главном экране, который открывается при вхо...</td>\n",
       "    </tr>\n",
       "    <tr>\n",
       "      <th>4</th>\n",
       "      <td>Главное</td>\n",
       "      <td>Приложение Мой МТС</td>\n",
       "      <td>Что делать, если остатки пакетов не показываются</td>\n",
       "      <td>Вы не увидите остатки интернета, минут или СМС...</td>\n",
       "    </tr>\n",
       "  </tbody>\n",
       "</table>\n",
       "</div>"
      ],
      "text/plain": [
       "     Топик            Подтопик  \\\n",
       "0  Главное  Приложение Мой МТС   \n",
       "1  Главное  Приложение Мой МТС   \n",
       "2  Главное  Приложение Мой МТС   \n",
       "3  Главное  Приложение Мой МТС   \n",
       "4  Главное  Приложение Мой МТС   \n",
       "\n",
       "                                   Поисковой запрос  \\\n",
       "0     Как проверить последние пополнения и списания   \n",
       "1                          Как заказать детализацию   \n",
       "2                Как оставаться на связи при минусе   \n",
       "3           Как проверить баланс и пакеты по тарифу   \n",
       "4  Что делать, если остатки пакетов не показываются   \n",
       "\n",
       "                                               Текст  \n",
       "0   1. Откройте Расходы\\n\\n\\n2. По умолчанию отоб...  \n",
       "1  \\nВ детализации есть полные данные о том, как ...  \n",
       "2  Есть несколько способов пользоваться номером п...  \n",
       "3  На главном экране, который открывается при вхо...  \n",
       "4  Вы не увидите остатки интернета, минут или СМС...  "
      ]
     },
     "execution_count": 2,
     "metadata": {},
     "output_type": "execute_result"
    }
   ],
   "source": [
    "data = pd.read_csv('KnowledgeBase.csv')\n",
    "data.head()"
   ]
  },
  {
   "cell_type": "code",
   "execution_count": 3,
   "metadata": {},
   "outputs": [
    {
     "data": {
      "text/html": [
       "<div>\n",
       "<style scoped>\n",
       "    .dataframe tbody tr th:only-of-type {\n",
       "        vertical-align: middle;\n",
       "    }\n",
       "\n",
       "    .dataframe tbody tr th {\n",
       "        vertical-align: top;\n",
       "    }\n",
       "\n",
       "    .dataframe thead th {\n",
       "        text-align: right;\n",
       "    }\n",
       "</style>\n",
       "<table border=\"1\" class=\"dataframe\">\n",
       "  <thead>\n",
       "    <tr style=\"text-align: right;\">\n",
       "      <th></th>\n",
       "      <th>topic</th>\n",
       "      <th>subtopic</th>\n",
       "      <th>query</th>\n",
       "      <th>text</th>\n",
       "    </tr>\n",
       "  </thead>\n",
       "  <tbody>\n",
       "    <tr>\n",
       "      <th>0</th>\n",
       "      <td>Главное</td>\n",
       "      <td>Приложение Мой МТС</td>\n",
       "      <td>Как проверить последние пополнения и списания</td>\n",
       "      <td>1. Откройте Расходы\\n\\n\\n2. По умолчанию отоб...</td>\n",
       "    </tr>\n",
       "    <tr>\n",
       "      <th>1</th>\n",
       "      <td>Главное</td>\n",
       "      <td>Приложение Мой МТС</td>\n",
       "      <td>Как заказать детализацию</td>\n",
       "      <td>\\nВ детализации есть полные данные о том, как ...</td>\n",
       "    </tr>\n",
       "    <tr>\n",
       "      <th>2</th>\n",
       "      <td>Главное</td>\n",
       "      <td>Приложение Мой МТС</td>\n",
       "      <td>Как оставаться на связи при минусе</td>\n",
       "      <td>Есть несколько способов пользоваться номером п...</td>\n",
       "    </tr>\n",
       "    <tr>\n",
       "      <th>3</th>\n",
       "      <td>Главное</td>\n",
       "      <td>Приложение Мой МТС</td>\n",
       "      <td>Как проверить баланс и пакеты по тарифу</td>\n",
       "      <td>На главном экране, который открывается при вхо...</td>\n",
       "    </tr>\n",
       "    <tr>\n",
       "      <th>4</th>\n",
       "      <td>Главное</td>\n",
       "      <td>Приложение Мой МТС</td>\n",
       "      <td>Что делать, если остатки пакетов не показываются</td>\n",
       "      <td>Вы не увидите остатки интернета, минут или СМС...</td>\n",
       "    </tr>\n",
       "  </tbody>\n",
       "</table>\n",
       "</div>"
      ],
      "text/plain": [
       "     topic            subtopic  \\\n",
       "0  Главное  Приложение Мой МТС   \n",
       "1  Главное  Приложение Мой МТС   \n",
       "2  Главное  Приложение Мой МТС   \n",
       "3  Главное  Приложение Мой МТС   \n",
       "4  Главное  Приложение Мой МТС   \n",
       "\n",
       "                                              query  \\\n",
       "0     Как проверить последние пополнения и списания   \n",
       "1                          Как заказать детализацию   \n",
       "2                Как оставаться на связи при минусе   \n",
       "3           Как проверить баланс и пакеты по тарифу   \n",
       "4  Что делать, если остатки пакетов не показываются   \n",
       "\n",
       "                                                text  \n",
       "0   1. Откройте Расходы\\n\\n\\n2. По умолчанию отоб...  \n",
       "1  \\nВ детализации есть полные данные о том, как ...  \n",
       "2  Есть несколько способов пользоваться номером п...  \n",
       "3  На главном экране, который открывается при вхо...  \n",
       "4  Вы не увидите остатки интернета, минут или СМС...  "
      ]
     },
     "execution_count": 3,
     "metadata": {},
     "output_type": "execute_result"
    }
   ],
   "source": [
    "data.columns = ['topic', 'subtopic', 'query', 'text']\n",
    "data.head()"
   ]
  },
  {
   "cell_type": "code",
   "execution_count": 4,
   "metadata": {},
   "outputs": [
    {
     "data": {
      "text/plain": [
       "0       Как проверить последние пополнения и списания\n",
       "1                            Как заказать детализацию\n",
       "2                  Как оставаться на связи при минусе\n",
       "3             Как проверить баланс и пакеты по тарифу\n",
       "4    Что делать, если остатки пакетов не показываются\n",
       "Name: query, dtype: object"
      ]
     },
     "execution_count": 4,
     "metadata": {},
     "output_type": "execute_result"
    }
   ],
   "source": [
    "data = data['query']\n",
    "data.head()"
   ]
  },
  {
   "cell_type": "code",
   "execution_count": null,
   "metadata": {},
   "outputs": [],
   "source": [
    "class MTS_Embeddings(Embeddings):\n",
    "    def __init__(self, api_key: str):\n",
    "        self.api_key = api_key\n",
    "        self.api_url = \"https://api.gpt.mws.ru/v1/embeddings\"\n",
    "        \n",
    "    def embed_documents(self, texts: List[str]) -> List[List[float]]:\n",
    "        return [self._get_embedding(text) for text in texts]\n",
    "    \n",
    "    def embed_query(self, text: str) -> List[float]:\n",
    "        return self._get_embedding(text)\n",
    "        \n",
    "    @retry(wait=wait_random_exponential(min=20, max=50), stop=stop_after_attempt(200))\n",
    "    def _get_embedding(self, text: str) -> List[float]:\n",
    "        headers = {'Authorization': f'Bearer {self.api_key}'}\n",
    "        data = {\n",
    "                \"model\": \"bge-m3\",\n",
    "                \"input\": text\n",
    "            }\n",
    "        try:\n",
    "            response = requests.post(self.api_url, json=data, headers=headers)\n",
    "            return response.json()['data'][0]['embedding']    \n",
    "        except Exception as e:\n",
    "            print(f'{e}: embedding error')\n",
    "            return e\n",
    "        \n",
    "    "
   ]
  },
  {
   "cell_type": "code",
   "execution_count": null,
   "metadata": {},
   "outputs": [],
   "source": []
  },
  {
   "cell_type": "code",
   "execution_count": 6,
   "metadata": {},
   "outputs": [],
   "source": [
    "def create_and_save_faiss_db(questions_series: pd.Series, api_key: str, save_path: str):\n",
    "    \"\"\"\n",
    "    Creates a FAISS vector store from the questions in the pandas Series and saves it locally.\n",
    "    \n",
    "    Args:\n",
    "        questions_series (pd.Series): A pandas Series containing the questions.\n",
    "        api_key (str): The API key for the embedding model.\n",
    "        save_path (str): The local directory path to save the FAISS index.\n",
    "    \"\"\"\n",
    "    embedder = MTS_Embeddings(api_key)\n",
    "    documents = [Document(page_content=question) for question in questions_series]\n",
    "    vector_store = FAISS.from_documents(documents, embedder)\n",
    "    vector_store.save_local(save_path)"
   ]
  },
  {
   "cell_type": "code",
   "execution_count": null,
   "metadata": {},
   "outputs": [],
   "source": [
    "def get_top_3_similar_questions_from_db(save_path: str, api_key: str, input_question: str) -> List[str]:\n",
    "    \"\"\"\n",
    "    Loads the saved FAISS vector store and retrieves the top 3 most similar questions to the input question.\n",
    "    \n",
    "    Args:\n",
    "        save_path (str): The local directory path where the FAISS index is saved.\n",
    "        api_key (str): The API key for the embedding model.\n",
    "        input_question (str): The input question to find similar questions for.\n",
    "    \n",
    "    Returns:\n",
    "        List[str]: A list of the top 3 most similar questions.\n",
    "    \"\"\"\n",
    "    embedder = MTS_Embeddings(api_key)\n",
    "    vector_store = FAISS.load_local(save_path, embeddings=embedder, allow_dangerous_deserialization=True)\n",
    "    similar_docs = vector_store.similarity_search(input_question, k=3)\n",
    "    top_questions = [doc.page_content for doc in similar_docs]\n",
    "    \"\"\"_summary_\n",
    "\n",
    "    Returns:\n",
    "        _type_: _description_\n",
    "    \"\"\"    return top_questions"
   ]
  },
  {
   "cell_type": "code",
   "execution_count": 8,
   "metadata": {},
   "outputs": [],
   "source": [
    "load_dotenv('.env.private', override=True)\n",
    "api_key = os.getenv('API_KEY')"
   ]
  },
  {
   "cell_type": "code",
   "execution_count": 11,
   "metadata": {},
   "outputs": [],
   "source": [
    "save_path = \"faiss_index\"\n",
    "# create_and_save_faiss_db(data, api_key, save_path)"
   ]
  },
  {
   "cell_type": "code",
   "execution_count": 12,
   "metadata": {},
   "outputs": [
    {
     "name": "stdout",
     "output_type": "stream",
     "text": [
      "['В чем различие между ОСАГО и КАСКО?', 'Для чего нужно КАСКО?', 'Что покрывает КАСКО']\n"
     ]
    }
   ],
   "source": [
    "input_question = \"Чем КАСКО отличается от ОСАГО ?\"\n",
    "top_3_questions = get_top_3_similar_questions_from_db(save_path, api_key, input_question)\n",
    "print(top_3_questions)"
   ]
  },
  {
   "cell_type": "code",
   "execution_count": null,
   "metadata": {},
   "outputs": [],
   "source": []
  }
 ],
 "metadata": {
  "language_info": {
   "name": "python"
  }
 },
 "nbformat": 4,
 "nbformat_minor": 2
}
