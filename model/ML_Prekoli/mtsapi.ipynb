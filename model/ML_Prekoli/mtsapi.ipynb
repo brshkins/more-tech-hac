{
 "cells": [
  {
   "cell_type": "code",
   "execution_count": 1,
   "metadata": {
    "execution": {
     "iopub.execute_input": "2025-04-18T19:25:30.517833Z",
     "iopub.status.busy": "2025-04-18T19:25:30.516772Z",
     "iopub.status.idle": "2025-04-18T19:25:30.647378Z",
     "shell.execute_reply": "2025-04-18T19:25:30.646393Z",
     "shell.execute_reply.started": "2025-04-18T19:25:30.517776Z"
    },
    "trusted": true
   },
   "outputs": [],
   "source": [
    "import json\n",
    "import requests\n",
    "import os"
   ]
  },
  {
   "cell_type": "code",
   "execution_count": 17,
   "metadata": {
    "execution": {
     "iopub.execute_input": "2025-04-18T19:25:31.389668Z",
     "iopub.status.busy": "2025-04-18T19:25:31.389346Z",
     "iopub.status.idle": "2025-04-18T19:25:31.395072Z",
     "shell.execute_reply": "2025-04-18T19:25:31.394120Z",
     "shell.execute_reply.started": "2025-04-18T19:25:31.389643Z"
    },
    "trusted": true
   },
   "outputs": [],
   "source": [
    "def get_models() -> dict:\n",
    "    url = \"https://api.gpt.mws.ru/v1/models\"\n",
    "    api_key = os.getenv('API_KEY')\n",
    "    headers = {\n",
    "        \"Authorization\": f\"Bearer {api_key}\"  # Replace YOUR_API_KEY with your actual API key\n",
    "    }\n",
    "    response = requests.get(url, headers=headers)\n",
    "    print(response.status_code)\n",
    "    return response.json()"
   ]
  },
  {
   "cell_type": "code",
   "execution_count": 18,
   "metadata": {
    "execution": {
     "iopub.execute_input": "2025-04-18T19:25:32.387696Z",
     "iopub.status.busy": "2025-04-18T19:25:32.387363Z",
     "iopub.status.idle": "2025-04-18T19:25:33.327028Z",
     "shell.execute_reply": "2025-04-18T19:25:33.325884Z",
     "shell.execute_reply.started": "2025-04-18T19:25:32.387669Z"
    },
    "trusted": true
   },
   "outputs": [
    {
     "name": "stdout",
     "output_type": "stream",
     "text": [
      "200\n"
     ]
    }
   ],
   "source": [
    "response = get_models()"
   ]
  },
  {
   "cell_type": "code",
   "execution_count": 19,
   "metadata": {
    "execution": {
     "iopub.execute_input": "2025-04-18T19:25:34.311786Z",
     "iopub.status.busy": "2025-04-18T19:25:34.311501Z",
     "iopub.status.idle": "2025-04-18T19:25:34.319151Z",
     "shell.execute_reply": "2025-04-18T19:25:34.318301Z",
     "shell.execute_reply.started": "2025-04-18T19:25:34.311764Z"
    },
    "trusted": true
   },
   "outputs": [
    {
     "data": {
      "text/plain": [
       "['qwen2.5-72b-instruct',\n",
       " 'bge-m3',\n",
       " 'llama-3.1-8b-instruct',\n",
       " 'deepseek-r1-distill-qwen-32b',\n",
       " 'llama-3.3-70b-instruct',\n",
       " 'qwen2.5-coder-7b-instruct',\n",
       " 'qwen2.5-32b-instruct',\n",
       " 'gemma-3-27b-it',\n",
       " 'mws-gpt-alpha']"
      ]
     },
     "execution_count": 19,
     "metadata": {},
     "output_type": "execute_result"
    }
   ],
   "source": [
    "models = [item['id'] for item in response['data']]\n",
    "models"
   ]
  },
  {
   "cell_type": "code",
   "execution_count": null,
   "metadata": {
    "_cell_guid": "b1076dfc-b9ad-4769-8c92-a6c4dae69d19",
    "_uuid": "8f2839f25d086af736a60e9eeb907d3b93b6e0e5",
    "execution": {
     "iopub.execute_input": "2025-04-18T19:33:08.491269Z",
     "iopub.status.busy": "2025-04-18T19:33:08.490982Z",
     "iopub.status.idle": "2025-04-18T19:33:08.498877Z",
     "shell.execute_reply": "2025-04-18T19:33:08.497907Z",
     "shell.execute_reply.started": "2025-04-18T19:33:08.491248Z"
    },
    "trusted": true
   },
   "outputs": [],
   "source": [
    "def call_model_complition(user_prompt: str, model_name: str, context: str, temperature: float = 0.2) -> dict:\n",
    "    url = \"https://api.gpt.mws.ru/v1/completions\"\n",
    "    api_key = os.getenv('API_KEY')\n",
    "    headers = {\n",
    "        \"Authorization\": f\"Bearer {api_key}\"  # Replace YOUR_API_KEY with your actual API key\n",
    "    }\n",
    "    prompt = f\"\"\"\n",
    "Ты - ассистент по поиску информации в данных. Используй следующий контекст для ответа на вопрос пользователя.\n",
    "Если ты считаешь, что контекста недостаточно для формирования ответа, ответь что не можешь помочь в решении данного вопоса\n",
    "Контекст:\n",
    "{context}\n",
    "\n",
    "Запрос пользователя:\n",
    "{user_prompt}\n",
    "\n",
    "Ответ:\n",
    "\"\"\"\n",
    "    data = {\n",
    "        \"model\": model_name,\n",
    "        \"prompt\": prompt,\n",
    "        \"temperature\": temperature,\n",
    "        \"max_tokens\": 150,\n",
    "        \"top_p\": 1,\n",
    "        \"frequency_penalty\": 0,\n",
    "        \"presence_penalty\": 0,\n",
    "    }\n",
    "    response = requests.post(url, headers=headers, json=data)\n",
    "    if response.status_code != 200:\n",
    "        print(model_name, response.status_code) \n",
    "    else: \n",
    "        return response.json()"
   ]
  },
  {
   "cell_type": "code",
   "execution_count": null,
   "metadata": {
    "execution": {
     "iopub.execute_input": "2025-04-18T19:34:13.731100Z",
     "iopub.status.busy": "2025-04-18T19:34:13.730756Z",
     "iopub.status.idle": "2025-04-18T19:39:00.696653Z",
     "shell.execute_reply": "2025-04-18T19:39:00.695605Z",
     "shell.execute_reply.started": "2025-04-18T19:34:13.731075Z"
    },
    "trusted": true
   },
   "outputs": [
    {
     "name": "stdout",
     "output_type": "stream",
     "text": [
      "not doing bge\n"
     ]
    }
   ],
   "source": [
    "results = []\n",
    "querys_path = 'querys.json'\n",
    "with open(querys_path, 'r', encoding='utf') as f:\n",
    "    prompts = json.load(f)\n",
    "    \n",
    "# Models testing\n",
    "for model in models:\n",
    "    if model == 'bge-m3':\n",
    "        print('not doing bge')\n",
    "        continue\n",
    "    for prompt_dict in prompts:\n",
    "        result = call_model_complition(prompt_dict['user_prompt'], model, prompt_dict['context'])\n",
    "        if result is not None:\n",
    "            results.append({\n",
    "                \"model\": model,\n",
    "                \"user_prompt\": prompt_dict['user_prompt'],\n",
    "                \"context\": prompt_dict['context'],\n",
    "                \"response\": result\n",
    "            })\n",
    "        else:\n",
    "            results.append({\n",
    "                \"model\": model,\n",
    "                \"user_prompt\": prompt_dict['user_prompt'],\n",
    "                \"context\": prompt_dict['context'],\n",
    "                \"error\": \"API call failed\"\n",
    "            })\n",
    "\n",
    "with open('results.json', 'w', encoding='utf-8') as f:\n",
    "    json.dump(results, f, ensure_ascii=False, indent=4)"
   ]
  },
  {
   "cell_type": "code",
   "execution_count": 19,
   "metadata": {
    "trusted": true
   },
   "outputs": [],
   "source": [
    "url = \"https://api.gpt.mws.ru/v1/embeddings\"\n",
    "API_key = os.getenv('API_KEY')\n",
    "model = \"bge-m3\"\n",
    "input = [\n",
    "    \"как у тебя дела\",\n",
    "    \"Как жизнь\",\n",
    "    ]\n",
    "\n",
    "def reqToEmbading(url, API_key, model, input):\n",
    "    headers = {\n",
    "        \"Authorization\": f\"Bearer {API_key}\"\n",
    "    }\n",
    "    data = {\n",
    "        \"model\": model,\n",
    "        \"input\": input\n",
    "    }\n",
    "\n",
    "    response = requests.post(url, headers=headers, json=data)\n",
    "    return response.json()\n",
    "  \n",
    "response = reqToEmbading(url, API_key, model, input)"
   ]
  },
  {
   "cell_type": "code",
   "execution_count": null,
   "metadata": {},
   "outputs": [
    {
     "data": {
      "text/plain": [
       "<Response [200]>"
      ]
     },
     "execution_count": 37,
     "metadata": {},
     "output_type": "execute_result"
    }
   ],
   "source": [
    "model_name = 'qwen2.5-72b-instruct'\n",
    "url = \"https://api.gpt.mws.ru/v1/chat/completions\"\n",
    "api_key = os.getenv(\"API_KEY\")\n",
    "headers = {\n",
    "    \"Authorization\": f\"Bearer {api_key}\"\n",
    "}\n",
    "context = \"\"\"Как проверить последние пополнения и списания\n",
    "1. Откройте Расходы\n",
    "\n",
    "\n",
    "2. По умолчанию отобразятся все операции: и списания, и пополнения\n",
    "\n",
    "\n",
    "3. Нажмите на вкладку Списания или вкладку Пополнения, чтобы посмотреть только один тип операций\n",
    "\n",
    "Как заказать детализацию\n",
    "В детализации есть полные данные о том, как вы пользовались услугами связи в выбранный период. В ней вы найдёте все даты и суммы списаний и пополнений, список всех звонков, интернет-сессий и СМС.\n",
    "\n",
    "Все события в детализации идут по порядку, начиная с самых ранних. Если вы активно пользуетесь интернетом, у вас будет много записей о выходах в сеть. В этом случае данные о звонках могут находиться между ними.\n",
    "\n",
    "Как скачать детализацию или получить её на email:\n",
    "\n",
    "1. Откройте Расходы\n",
    "\n",
    "\n",
    "2. Нажмите ↓ Детализация\n",
    "\n",
    "\n",
    "3. Выберите Отчёт по расходам\n",
    "\n",
    "\n",
    "4. Выберите период и формат документа: PDF или XLSX\n",
    "\n",
    "\n",
    "5. Если хотите сразу загрузить детализацию, нажмите Скачать. Чтобы получить документ на электронную почту, введите свой адрес и нажмите Отправить на email\n",
    "\n",
    "Детализацию давностью от полугода до трёх лет можно получить только на email\n",
    "\n",
    "\n",
    "Ещё один способ заказать детализацию ― в Личном кабинете. Инструкция есть в статье Как посмотреть детализацию расходов\n",
    "\n",
    "Как оставаться на связи при минусе\n",
    "Есть несколько способов пользоваться номером при отрицательном балансе. Вы можете посмотреть доступные опции и подключить их в разделе Каталог > Услуги > Возможности при нуле\n",
    "\n",
    "Как проверить баланс и пакеты по тарифу\n",
    "На главном экране, который открывается при входе в приложение Мой МТС, вы видите все самые важные цифры: \n",
    "\n",
    "сумму на балансе\n",
    "оставшиеся минуты \n",
    "гигабайты интернета\n",
    "СМС\n",
    "Под остатком каждого пакета на счётчике написаны дни, оставшиеся до его обновления. Если вы израсходовали весь пакет или у вас безлимит, дни до обновления не показываются\n",
    "\n",
    "\n",
    "Если пакеты по тарифу заканчиваются, о том, как их обновить, рассказываем в статье\"\"\"\n",
    "system_prompt = f\"\"\"Ты ассистент для суммаризации информации\n",
    "Твоя задача - суммаризировать текст, включив в него все необходимые ключевые данные\n",
    "Не отвечай на вопросы в тексте и не добавляй новую информацию\n",
    "Суммаризация не должна превышать 100 токенов\"\"\"\n",
    "user_prompt = f\"Текст: {context[:300]}\"\n",
    "data = {\n",
    "        \"model\": model_name,\n",
    "        \"messages\" : [\n",
    "            {\"role\" : \"system\", \"content\" : system_prompt},\n",
    "            {\"role\" : \"use\", \"content\": user_prompt}\n",
    "        ],\n",
    "        \"temperature\": 0,\n",
    "        \"max_tokens\": 100,\n",
    "        \"n\" : 1\n",
    "    }\n",
    "response = requests.post(url, headers=headers, json=data)\n",
    "response"
   ]
  },
  {
   "cell_type": "code",
   "execution_count": 40,
   "metadata": {},
   "outputs": [
    {
     "name": "stdout",
     "output_type": "stream",
     "text": [
      "Как проверить последние пополнения и списания\n",
      "1. Откройте Расходы\n",
      "\n",
      "\n",
      "2. По умолчанию отобразятся все операции: и списания, и пополнения\n",
      "\n",
      "\n",
      "3. Нажмите на вкладку Списания или вкладку Пополнения, чтобы посмотреть только один тип операций\n",
      "\n",
      "Как заказать детализацию\n",
      "В детализации есть полные данные о том, \n"
     ]
    }
   ],
   "source": [
    "print(context[:300])"
   ]
  },
  {
   "cell_type": "code",
   "execution_count": 38,
   "metadata": {},
   "outputs": [
    {
     "data": {
      "text/plain": [
       "{'id': 'chatcmpl-3068cf53f44e4b16ae13e272ead70c27',\n",
       " 'created': 1745072647,\n",
       " 'model': 'qwen2.5-72b-instruct',\n",
       " 'object': 'chat.completion',\n",
       " 'system_fingerprint': None,\n",
       " 'choices': [{'finish_reason': 'stop',\n",
       "   'index': 0,\n",
       "   'message': {'content': 'Для проверки операций открой раздел \"Расходы\", где по умолчанию видны все транзакции. Выберите вкладку \"Списания\" или \"Пополнения\" для конкретного типа операций. Заказ детализации предоставит полные данные о транзакциях.',\n",
       "    'role': 'assistant',\n",
       "    'tool_calls': None,\n",
       "    'function_call': None}}],\n",
       " 'usage': {'completion_tokens': 77,\n",
       "  'prompt_tokens': 184,\n",
       "  'total_tokens': 261,\n",
       "  'completion_tokens_details': None,\n",
       "  'prompt_tokens_details': None},\n",
       " 'service_tier': None,\n",
       " 'prompt_logprobs': None}"
      ]
     },
     "execution_count": 38,
     "metadata": {},
     "output_type": "execute_result"
    }
   ],
   "source": [
    "result = response.json()\n",
    "result"
   ]
  },
  {
   "cell_type": "code",
   "execution_count": 39,
   "metadata": {},
   "outputs": [
    {
     "name": "stdout",
     "output_type": "stream",
     "text": [
      "Для проверки операций открой раздел \"Расходы\", где по умолчанию видны все транзакции. Выберите вкладку \"Списания\" или \"Пополнения\" для конкретного типа операций. Заказ детализации предоставит полные данные о транзакциях.\n"
     ]
    }
   ],
   "source": [
    "print(result['choices'][0]['message']['content'])"
   ]
  },
  {
   "cell_type": "code",
   "execution_count": null,
   "metadata": {},
   "outputs": [
    {
     "data": {
      "text/plain": [
       "<Response [200]>"
      ]
     },
     "execution_count": 56,
     "metadata": {},
     "output_type": "execute_result"
    }
   ],
   "source": [
    "model_name = 'deepseek-r1-distill-qwen-32b'\n",
    "api_key = os.getenv('API_KEY')\n",
    "url = \"https://api.gpt.mws.ru/v1/chat/completions\"\n",
    "question = \"Как проверить баланс и пакеты по тарифу\"\n",
    "context = ' Вы можете посмотреть доступные опции и подключить их в разделе Каталог > Услуги > Возможности при нуле Как проверить баланс и пакеты по тарифу\\n\\nТекст описывает, как проверить остаток интернет-пакета, дни до его обновления и условия тарифа на главном экране. Изменения условий оплаты или услуги могут произойти после бесплатного периода. Стоимость пакета списывается при подключении. Подробности тарифа, включая его название, размер пакетов и остатки, доступны\\n\\n Поэтому трафик по подписке может быть не виден сразу, но он точно есть Как это выглядит: в приложении Мой МТС в Личном кабинете В приложении и в Личном кабинете можно нажать на трафик, чтобы увидеть все подключённые пакеты\\n\\nразмер и остатки пакетов интернета, минут, СМС  Чтобы открыть полное описание своего тарифа:   1  На главной странице нажмите на его название   2  На открывшемся экране:\\n\\nВ разделе \"Услуги\" каталога можно подключить опции и проверить баланс. Нажмите на название тарифа для уточнения платы и даты списания. Кнопка \"Настроить\" доступна для тарифов с пакетами. Полное описание тарифа открывается при нажатии \"О тарифе\". Стоимость услуг и платные оп\\n\\n'\n",
    "headers = {\n",
    "            \"Authorization\": f\"Bearer {api_key}\"  # Replace YOUR_API_KEY with your actual API key\n",
    "        }\n",
    "system_prompt = f\"\"\"Ты ассистент для нахождения ответа на вопрос пользователя\n",
    "Твоя задача - внимательно проанализировать запрос пользователя и найти информацию в предоставленном тексте\n",
    "Постарайся отвечать кратко\"\"\"\n",
    "user_prompt = f\"\"\"Информация: {context}\n",
    "        \n",
    "Запрос пользователя: {question}\"\"\"\n",
    "        \n",
    "data = {\n",
    "    \"model\": 'deepseek-r1-distill-qwen-32b',\n",
    "    \"messages\" : [\n",
    "        {\"role\" : \"system\", \"content\" : system_prompt},\n",
    "        {\"role\" : \"user\", \"content\": user_prompt}\n",
    "    ],\n",
    "    \"temperature\": 0.2,\n",
    "    \"n\": 1,\n",
    "    \"frequency_penalty\": 0,\n",
    "    \"presence_penalty\": 0,\n",
    "}\n",
    "\n",
    "response = requests.post(url, headers=headers, json=data)\n",
    "response"
   ]
  },
  {
   "cell_type": "code",
   "execution_count": 57,
   "metadata": {},
   "outputs": [
    {
     "data": {
      "text/plain": [
       "{'id': 'chatcmpl-8c039cb4bfc342859d397f40e4990a5d',\n",
       " 'created': 1745081211,\n",
       " 'model': 'deepseek-r1-distill-qwen-32b',\n",
       " 'object': 'chat.completion',\n",
       " 'system_fingerprint': None,\n",
       " 'choices': [{'finish_reason': 'stop',\n",
       "   'index': 0,\n",
       "   'message': {'content': '<think>\\nХорошо, давайте разберемся, как помочь пользователю, который спрашивает: \"Как проверить баланс и пакеты по тарифу\". \\n\\nСначала я посмотрю на предоставленную информацию. В тексте говорится, что для проверки баланса и пакетов нужно использовать приложение \"Мой МТС\" или Личный кабинет. Там можно нажать на трафик, чтобы увидеть все подключенные пакеты, их размер и остатки. \\n\\nТакже упоминается, что в разделе \"Услуги\" каталога можно подключить опции и проверить баланс. Нажав на название тарифа, можно уточнить плату и дату списания. Кнопка \"Настроить\" доступна для тарифов с пакетами, а полное описание тарифа открывается при нажатии \"О тарифе\".\\n\\nПохоже, основные шаги такие:\\n1. Зайти в приложение \"Мой МТС\" или Личный кабинет.\\n2. Нажать на трафик, чтобы увидеть пакеты.\\n3. Проверить раздел \"Услуги\" для дополнительной информации.\\n\\nМожет быть полезно упомянуть, что трафик по подписке не сразу виден, но он есть. Это важно, чтобы пользователь не волновался, если не сразу видит данные.\\n\\nТеперь оформлю это кратко и понятно, чтобы пользователь мог легко следовать инструкциям.\\n</think>\\n\\nЧтобы проверить баланс и пакеты по тарифу:\\n\\n1. Войдите в приложение \"Мой МТС\" или Личный кабинет.\\n2. Нажмите на раздел \"Трафик\", чтобы просмотреть подключенные пакеты, их размер и остатки.\\n3. Для дополнительной информации перейдите в раздел \"Услуги\" каталога, где можно проверить баланс и уточнить плату и дату списания.\\n\\nТрафик по подписке может не сразу отображаться, но он доступен.',\n",
       "    'role': 'assistant',\n",
       "    'tool_calls': None,\n",
       "    'function_call': None}}],\n",
       " 'usage': {'completion_tokens': 514,\n",
       "  'prompt_tokens': 471,\n",
       "  'total_tokens': 985,\n",
       "  'completion_tokens_details': None,\n",
       "  'prompt_tokens_details': None},\n",
       " 'service_tier': None,\n",
       " 'prompt_logprobs': None}"
      ]
     },
     "execution_count": 57,
     "metadata": {},
     "output_type": "execute_result"
    }
   ],
   "source": [
    "response.json()"
   ]
  },
  {
   "cell_type": "code",
   "execution_count": 58,
   "metadata": {},
   "outputs": [
    {
     "name": "stdout",
     "output_type": "stream",
     "text": [
      "<think>\n",
      "Хорошо, давайте разберемся, как помочь пользователю, который спрашивает: \"Как проверить баланс и пакеты по тарифу\". \n",
      "\n",
      "Сначала я посмотрю на предоставленную информацию. В тексте говорится, что для проверки баланса и пакетов нужно использовать приложение \"Мой МТС\" или Личный кабинет. Там можно нажать на трафик, чтобы увидеть все подключенные пакеты, их размер и остатки. \n",
      "\n",
      "Также упоминается, что в разделе \"Услуги\" каталога можно подключить опции и проверить баланс. Нажав на название тарифа, можно уточнить плату и дату списания. Кнопка \"Настроить\" доступна для тарифов с пакетами, а полное описание тарифа открывается при нажатии \"О тарифе\".\n",
      "\n",
      "Похоже, основные шаги такие:\n",
      "1. Зайти в приложение \"Мой МТС\" или Личный кабинет.\n",
      "2. Нажать на трафик, чтобы увидеть пакеты.\n",
      "3. Проверить раздел \"Услуги\" для дополнительной информации.\n",
      "\n",
      "Может быть полезно упомянуть, что трафик по подписке не сразу виден, но он есть. Это важно, чтобы пользователь не волновался, если не сразу видит данные.\n",
      "\n",
      "Теперь оформлю это кратко и понятно, чтобы пользователь мог легко следовать инструкциям.\n",
      "</think>\n",
      "\n",
      "Чтобы проверить баланс и пакеты по тарифу:\n",
      "\n",
      "1. Войдите в приложение \"Мой МТС\" или Личный кабинет.\n",
      "2. Нажмите на раздел \"Трафик\", чтобы просмотреть подключенные пакеты, их размер и остатки.\n",
      "3. Для дополнительной информации перейдите в раздел \"Услуги\" каталога, где можно проверить баланс и уточнить плату и дату списания.\n",
      "\n",
      "Трафик по подписке может не сразу отображаться, но он доступен.\n"
     ]
    }
   ],
   "source": [
    "print(response.json()['choices'][0]['message']['content'])"
   ]
  },
  {
   "cell_type": "code",
   "execution_count": null,
   "metadata": {},
   "outputs": [],
   "source": []
  }
 ],
 "metadata": {
  "kaggle": {
   "accelerator": "none",
   "dataSources": [
    {
     "datasetId": 7184989,
     "sourceId": 11465633,
     "sourceType": "datasetVersion"
    }
   ],
   "dockerImageVersionId": 31012,
   "isGpuEnabled": false,
   "isInternetEnabled": true,
   "language": "python",
   "sourceType": "notebook"
  },
  "kernelspec": {
   "display_name": ".venv",
   "language": "python",
   "name": "python3"
  },
  "language_info": {
   "codemirror_mode": {
    "name": "ipython",
    "version": 3
   },
   "file_extension": ".py",
   "mimetype": "text/x-python",
   "name": "python",
   "nbconvert_exporter": "python",
   "pygments_lexer": "ipython3",
   "version": "3.11.4"
  }
 },
 "nbformat": 4,
 "nbformat_minor": 4
}
