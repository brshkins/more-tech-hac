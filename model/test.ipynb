{
 "cells": [
  {
   "cell_type": "code",
   "execution_count": 1,
   "metadata": {},
   "outputs": [
    {
     "name": "stderr",
     "output_type": "stream",
     "text": [
      "2025-04-21 05:01:43,781 - Loading faiss with AVX2 support.\n",
      "2025-04-21 05:01:43,890 - Successfully loaded faiss with AVX2 support.\n",
      "2025-04-21 05:01:43,897 - Failed to load GPU Faiss: name 'GpuIndexIVFFlat' is not defined. Will not load constructor refs for GPU indexes.\n",
      "2025-04-21 05:01:44,890 - Successfully initialized TreeBuilder with Config \n",
      "        TreeBuilderConfig:\n",
      "            Tokenizer: <Encoding 'cl100k_base'>\n",
      "            Max Tokens: 100\n",
      "            Num Layers: 5\n",
      "            Threshold: 0.5\n",
      "            Top K: 5\n",
      "            Selection Mode: top_k\n",
      "            Summarization Length: 100\n",
      "            Summarization Model: <raptorRag.CustomSummarizationModel object at 0x10e485010>\n",
      "            Embedding Models: {'EMB': <raptorRag.CustomEmbedder object at 0x1431cc4d0>}\n",
      "            Cluster Embedding Model: EMB\n",
      "        \n",
      "        Reduction Dimension: 10\n",
      "        Clustering Algorithm: RAPTOR_Clustering\n",
      "        Clustering Parameters: {}\n",
      "        \n",
      "2025-04-21 05:01:44,891 - Successfully initialized ClusterTreeBuilder with Config \n",
      "        TreeBuilderConfig:\n",
      "            Tokenizer: <Encoding 'cl100k_base'>\n",
      "            Max Tokens: 100\n",
      "            Num Layers: 5\n",
      "            Threshold: 0.5\n",
      "            Top K: 5\n",
      "            Selection Mode: top_k\n",
      "            Summarization Length: 100\n",
      "            Summarization Model: <raptorRag.CustomSummarizationModel object at 0x10e485010>\n",
      "            Embedding Models: {'EMB': <raptorRag.CustomEmbedder object at 0x1431cc4d0>}\n",
      "            Cluster Embedding Model: EMB\n",
      "        \n",
      "        Reduction Dimension: 10\n",
      "        Clustering Algorithm: RAPTOR_Clustering\n",
      "        Clustering Parameters: {}\n",
      "        \n",
      "2025-04-21 05:01:44,893 - Successfully initialized TreeRetriever with Config \n",
      "        TreeRetrieverConfig:\n",
      "            Tokenizer: <Encoding 'cl100k_base'>\n",
      "            Threshold: 0.5\n",
      "            Top K: 5\n",
      "            Selection Mode: top_k\n",
      "            Context Embedding Model: EMB\n",
      "            Embedding Model: <raptorRag.CustomEmbedder object at 0x1431cc4d0>\n",
      "            Num Layers: None\n",
      "            Start Layer: None\n",
      "        \n",
      "2025-04-21 05:01:44,894 - Successfully initialized RetrievalAugmentation with Config \n",
      "        RetrievalAugmentationConfig:\n",
      "            \n",
      "        TreeBuilderConfig:\n",
      "            Tokenizer: <Encoding 'cl100k_base'>\n",
      "            Max Tokens: 100\n",
      "            Num Layers: 5\n",
      "            Threshold: 0.5\n",
      "            Top K: 5\n",
      "            Selection Mode: top_k\n",
      "            Summarization Length: 100\n",
      "            Summarization Model: <raptorRag.CustomSummarizationModel object at 0x10e485010>\n",
      "            Embedding Models: {'EMB': <raptorRag.CustomEmbedder object at 0x1431cc4d0>}\n",
      "            Cluster Embedding Model: EMB\n",
      "        \n",
      "        Reduction Dimension: 10\n",
      "        Clustering Algorithm: RAPTOR_Clustering\n",
      "        Clustering Parameters: {}\n",
      "        \n",
      "            \n",
      "            \n",
      "        TreeRetrieverConfig:\n",
      "            Tokenizer: <Encoding 'cl100k_base'>\n",
      "            Threshold: 0.5\n",
      "            Top K: 5\n",
      "            Selection Mode: top_k\n",
      "            Context Embedding Model: EMB\n",
      "            Embedding Model: <raptorRag.CustomEmbedder object at 0x1431cc4d0>\n",
      "            Num Layers: None\n",
      "            Start Layer: None\n",
      "        \n",
      "            \n",
      "            QA Model: <raptorRag.CustomQAModel object at 0x143a83690>\n",
      "            Tree Builder Type: cluster\n",
      "        \n"
     ]
    }
   ],
   "source": [
    "import datetime\n",
    "import json\n",
    "import os\n",
    "#import time\n",
    "import websocket\n",
    "#import whisper\n",
    "from dotenv import load_dotenv\n",
    "from datetime import datetime\n",
    "from raptorRag import RaptorRagPipeline\n",
    "import summarizeContext\n",
    "import contextAnalizer\n",
    "from langchain_core.runnables import RunnableLambda, RunnableParallel\n",
    "\n",
    "load_dotenv('.env.private', override=True)\n",
    "api_key = os.getenv('API_KEY')\n",
    "#model = RaptorRagPipeline(api_key, 'model/RaptorDB.pickle') # для локальной работы\n",
    "model = RaptorRagPipeline(api_key, 'RaptorDB.pickle')\n",
    "\n",
    "raptor_runnable = RunnableLambda(lambda text: model.answer_question(text))\n",
    "\n",
    "#/// Добавить в пайп по ходу диалога\n",
    "intent_class = contextAnalizer.IntentClassifier(api_key=api_key)\n",
    "intent_runnable = RunnableLambda(lambda text: intent_class.intent_classifier(user_input=text))\n",
    "\n",
    "alignment_class = contextAnalizer.Alignmnet(api_key=api_key)\n",
    "aligment_runnable = RunnableLambda(lambda text: alignment_class.alignment_classifier(question=text))\n",
    "\n",
    "suggestion = contextAnalizer.ContextRAG(api_key=api_key, save_path='ML_Prekoli/faiss_index')\n",
    "suggestion_runnable = RunnableLambda(lambda text: suggestion.get_top_3(input_question=text))\n",
    "#/// Добавить в пайп по ходу диалога"
   ]
  },
  {
   "cell_type": "code",
   "execution_count": 2,
   "metadata": {},
   "outputs": [],
   "source": [
    "prompt_pipeline = RunnableParallel(\n",
    "    intent=intent_runnable,\n",
    "    alignment=aligment_runnable,\n",
    "    suggestion=suggestion_runnable,\n",
    ")"
   ]
  },
  {
   "cell_type": "code",
   "execution_count": 3,
   "metadata": {},
   "outputs": [
    {
     "name": "stderr",
     "output_type": "stream",
     "text": [
      "2025-04-21 05:01:45,144 - Using collapsed_tree\n"
     ]
    },
    {
     "data": {
      "text/plain": [
       "'КАСКО — добровольное страхование автомобиля, которое покрывает убытки владельцу даже в случае его вины. ОСАГО — обязательное страхование, защищающее интересы пострадавшей стороны в случае аварии.'"
      ]
     },
     "execution_count": 3,
     "metadata": {},
     "output_type": "execute_result"
    }
   ],
   "source": [
    "raptor_runnable.invoke(\"Чем отличаеся КАСКО от ОСАГО ?\")"
   ]
  },
  {
   "cell_type": "code",
   "execution_count": 4,
   "metadata": {},
   "outputs": [],
   "source": [
    "# Example usage\n",
    "def process_user_prompt(user_input: str):\n",
    "    results = prompt_pipeline.invoke(user_input)\n",
    "    return results"
   ]
  },
  {
   "cell_type": "code",
   "execution_count": 5,
   "metadata": {},
   "outputs": [
    {
     "data": {
      "text/plain": [
       "{'intent': 'technical',\n",
       " 'alignment': 'neutral',\n",
       " 'suggestion': ['В чем различие между ОСАГО и КАСКО?',\n",
       "  'Для чего нужно КАСКО?',\n",
       "  'Что покрывает КАСКО']}"
      ]
     },
     "execution_count": 5,
     "metadata": {},
     "output_type": "execute_result"
    }
   ],
   "source": [
    "process_user_prompt(\"Чем отличается КАСКО от ОСАГО ?\")"
   ]
  },
  {
   "cell_type": "code",
   "execution_count": 6,
   "metadata": {},
   "outputs": [],
   "source": [
    "summary_agent = summarizeContext.ContextSummarizer(api_key=api_key)\n",
    "summary_runnable = RunnableLambda(lambda chat_dict: summary_agent.summarize_dialogue(chat_history=chat_dict))\n",
    "resolution_runnable = RunnableLambda(lambda chat_dict: summary_agent.resolution(chat_history=chat_dict))\n",
    "crm_runnable = RunnableLambda(lambda chat_dict: summary_agent.fill(chat_history=chat_dict))\n",
    "\n",
    "quality_assurance = summarizeContext.QualityAssurance(api_key=api_key)\n",
    "quality_runnable = RunnableLambda(lambda chat_dict: quality_assurance.suggestion(chat_history=chat_dict))\n"
   ]
  },
  {
   "cell_type": "code",
   "execution_count": 7,
   "metadata": {},
   "outputs": [],
   "source": [
    "system_prompt = f\"\"\"Ты ассистент для нахождения ответа на вопрос пользователя\n",
    "Твоя задача - внимательно проанализировать запрос пользователя и найти информацию в предоставленном тексте\n",
    "Постарайся отвечать кратко\"\"\"\n",
    "user_prompt = f\"\"\"Информация: Вы можете посмотреть доступные опции и подключить их в разделе Каталог > Услуги > Возможности при нуле Как проверить баланс и пакеты по тарифу\\n\\nТекст описывает, как проверить остаток интернет-пакета, дни до его обновления и условия тарифа на главном экране. Изменения условий оплаты или услуги могут произойти после бесплатного периода. Стоимость пакета списывается при подключении. Подробности тарифа, включая его название, размер пакетов и остатки, доступны\\n\\n Поэтому трафик по подписке может быть не виден сразу, но он точно есть Как это выглядит: в приложении Мой МТС в Личном кабинете В приложении и в Личном кабинете можно нажать на трафик, чтобы увидеть все подключённые пакеты\\n\\nразмер и остатки пакетов интернета, минут, СМС  Чтобы открыть полное описание своего тарифа:   1  На главной странице нажмите на его название   2  На открывшемся экране:\\n\\nВ разделе \"Услуги\" каталога можно подключить опции и проверить баланс. Нажмите на название тарифа для уточнения платы и даты списания. Кнопка \"Настроить\" доступна для тарифов с пакетами. Полное описание тарифа открывается при нажатии \"О тарифе\". Стоимость услуг и платные оп\\n\\nКак узнать подробности о своём тарифе 1  На главном экране вы можете узнать: название своего тарифа размер пакетов интернета, минут, СМС и их остатки\\n\\nПроверить подаренные минуты можно в Личном кабинете  В Мой МТС отображаются минуты, которые входят в ваш тариф Информация в виджетах С помощью виджетов приложения Мой МТС можно:  уточнить абонентскую плату и баланс\"\"\"\n",
    "assistant_response = 'Для проверки баланса и пакетов по тарифу:\\n\\n1. В приложении \"Мой МТС\" или Личном кабинете нажмите на название тарифа на главной странице.\\n2. На открывшемся экране можно увидеть:\\n   - Название тарифа\\n   - Размер и остатки пакетов интернета, минут, SMS\\n   - Подаренные минуты (доступны в Личном кабинете)\\n3. Для получения полной информации о тарифе нажмите \"О тарифе\".\\n4. Абонентская плата и баланс можно проверить через виджеты приложения.'\n",
    "chat_history = [\n",
    "    #{\"role\":\"system\", \"content\":system_prompt},\n",
    "    {\"role\":\"user\", \"content\": user_prompt},\n",
    "    {\"role\":\"assistant\", \"content\": assistant_response}\n",
    "]"
   ]
  },
  {
   "cell_type": "code",
   "execution_count": 8,
   "metadata": {},
   "outputs": [],
   "source": [
    "finish_pipeline = RunnableParallel(\n",
    "    summary=summary_runnable,\n",
    "    resolution=resolution_runnable,\n",
    "    crm=crm_runnable,\n",
    "    quality=quality_runnable\n",
    ")"
   ]
  },
  {
   "cell_type": "code",
   "execution_count": 9,
   "metadata": {},
   "outputs": [
    {
     "data": {
      "text/plain": [
       "{'summary': '### Суммаризация:\\n1. **Вопрос оператора:** Как проверить баланс и пакеты по тарифу?  \\n   **Ответ ассистента:** Указаны шаги для проверки через приложение \"Мой МТС\" и Личный кабинет, а также информация о том, как найти полное описание тарифа.  \\n   **Корректность ответа:** Да, информация предоставлена полно и понятно.\\n\\n2. **Вопрос оператора:** Как подключить опции и проверить их баланс?  \\n   **Ответ ассистента:** Указано, что опции можно подключить в разделе \"Услуги\" каталога, а также как проверить баланс через приложение.  \\n   **Корректность ответа:** Да, информация предоставлена полно и понятно.\\n\\n### Вердикт:\\nАссистент корректно ответил на все вопросы оператора, предоставив полную и понятную информацию о проверке баланса, пакетов и доступных опций.',\n",
       " 'resolution': 'info_provided',\n",
       " 'crm': {'issue_type': 'billing',\n",
       "  'client_sentiment': 'neutral',\n",
       "  'resolution': 'info_provided'},\n",
       " 'quality': '### Рекомендации:\\n1. **Используйте дружелюбный тон**: Избегайте категоричных заявлений, таких как \"Вы не правы\" или \"Это не работает\". Вместо этого предлагайте альтернативы или объяснения.\\n2. **Будьте готовы помочь**: Если вы не можете помочь, предложите альтернативные варианты или перенаправьте клиента к другому специалисту.\\n3. **Используйте позитивные формулировки**: Фразы, такие как \"Давайте попробуем другой подход\" или \"Мы можем это решить\", создают более позитивную атмосферу.\\n\\n---\\n\\n### Образцовые ответы:\\n\\n1. **Изначальный ответ:** \"start Вы не правы. end\"  \\n   **Исправленный ответ:** \"Давайте посмотрим на это с другой точки зрения. Возможно, мы можем найти решение вместе.\"\\n\\n2. **Изначальный ответ:** \"start Это не работает. end\"  \\n   **Исправленный ответ:** \"Кажется, возникла небольшая сложность. Давайте попробуем другой подход.\"\\n\\n3. **Изначальный ответ:** \"start Я не могу вам помочь. end\"  \\n   **Исправленный ответ:** \"К сожалению, я не могу помочь вам в этом, но я могу направить вас к специалисту, который сможет.\"'}"
      ]
     },
     "execution_count": 9,
     "metadata": {},
     "output_type": "execute_result"
    }
   ],
   "source": [
    "finish_pipeline.invoke(chat_history)"
   ]
  },
  {
   "cell_type": "code",
   "execution_count": null,
   "metadata": {},
   "outputs": [],
   "source": []
  }
 ],
 "metadata": {
  "kernelspec": {
   "display_name": "Python 3",
   "language": "python",
   "name": "python3"
  },
  "language_info": {
   "codemirror_mode": {
    "name": "ipython",
    "version": 3
   },
   "file_extension": ".py",
   "mimetype": "text/x-python",
   "name": "python",
   "nbconvert_exporter": "python",
   "pygments_lexer": "ipython3",
   "version": "3.11.9"
  }
 },
 "nbformat": 4,
 "nbformat_minor": 2
}
